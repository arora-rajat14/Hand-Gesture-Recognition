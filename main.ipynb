{
 "cells": [
  {
   "cell_type": "code",
   "execution_count": 1,
   "metadata": {
    "tags": []
   },
   "outputs": [
    {
     "output_type": "stream",
     "name": "stderr",
     "text": "Using TensorFlow backend.\n"
    }
   ],
   "source": [
    "import numpy as np # We'll be storing our data as numpy arrays\n",
    "import os # For handling directories\n",
    "from PIL import Image # For handling the images\n",
    "import matplotlib.pyplot as plt\n",
    "import matplotlib.image as mpimg # Plotting\n",
    "from keras.models import load_model\n",
    "import cv2"
   ]
  },
  {
   "cell_type": "code",
   "execution_count": 2,
   "metadata": {},
   "outputs": [],
   "source": [
    "lookup = {'Fist': 0, 'Nothing': 1, 'Palm': 2, 'Swing': 3, 'Thumb': 4, 'Yo': 5}"
   ]
  },
  {
   "cell_type": "code",
   "execution_count": 3,
   "metadata": {},
   "outputs": [],
   "source": [
    "reverselookup = {0: 'Fist', 1: 'Nothing', 2: 'Palm', 3: 'Swing', 4: 'Thumb', 5: 'Yo'}"
   ]
  },
  {
   "cell_type": "code",
   "execution_count": 4,
   "metadata": {},
   "outputs": [],
   "source": [
    "#To load saved data\n",
    "x_train = np.load(\"X_TRAIN.npy\")\n",
    "y_train = np.load(\"Y_TRAIN.npy\")\n",
    "x_test = np.load(\"X_TEST.npy\")\n",
    "y_test = np.load(\"Y_TEST.npy\")\n"
   ]
  },
  {
   "cell_type": "code",
   "execution_count": 5,
   "metadata": {},
   "outputs": [],
   "source": [
    "model = load_model(\"new_model.h5\")"
   ]
  },
  {
   "cell_type": "code",
   "execution_count": 6,
   "metadata": {
    "tags": []
   },
   "outputs": [
    {
     "output_type": "stream",
     "name": "stdout",
     "text": "145/145 [==============================] - 3s 22ms/step\nAccuracy:0.9793103337287903\n"
    }
   ],
   "source": [
    "#To test accuracy of trained model on test data\n",
    "[loss, acc] = model.evaluate(x_test,y_test,verbose=1)\n",
    "print(\"Accuracy:\" + str(acc))"
   ]
  },
  {
   "cell_type": "code",
   "execution_count": 7,
   "metadata": {},
   "outputs": [
    {
     "output_type": "execute_result",
     "data": {
      "text/plain": "(145, 400, 400, 1)"
     },
     "metadata": {},
     "execution_count": 7
    }
   ],
   "source": [
    "x_test.shape"
   ]
  },
  {
   "cell_type": "code",
   "execution_count": 8,
   "metadata": {},
   "outputs": [
    {
     "output_type": "execute_result",
     "data": {
      "text/plain": "(145, 6)"
     },
     "metadata": {},
     "execution_count": 8
    }
   ],
   "source": [
    "y_test.shape"
   ]
  },
  {
   "cell_type": "code",
   "execution_count": 9,
   "metadata": {
    "tags": []
   },
   "outputs": [
    {
     "output_type": "stream",
     "name": "stdout",
     "text": "Palm\n"
    }
   ],
   "source": [
    "print(reverselookup[np.argmax(model.predict(x_test[1].reshape(1,400,400,1)))])"
   ]
  },
  {
   "cell_type": "code",
   "execution_count": 10,
   "metadata": {
    "tags": []
   },
   "outputs": [
    {
     "output_type": "stream",
     "name": "stdout",
     "text": "Palm\n"
    }
   ],
   "source": [
    "print(reverselookup[np.argmax(y_test[1])])"
   ]
  },
  {
   "cell_type": "code",
   "execution_count": 13,
   "metadata": {},
   "outputs": [],
   "source": [
    "\"\"\"cap  = cv2.VideoCapture(0)\n",
    "\n",
    "while True:\n",
    "    ret,frame = cap.read()\n",
    "    #To flip the image if needed\n",
    "    #frame = cv2.flip(frame,1)\n",
    "    \n",
    "    cv2.rectangle(frame,(0,100),(300,400),(0,255,0))\n",
    "    roi = frame[100:400,0:300]\n",
    "    hsv = cv2.cvtColor(roi,cv2.COLOR_BGR2HSV)\n",
    "    kernel = np.ones((3,3))\n",
    "    \n",
    "    #Skin color range in hsv\n",
    "    lower_skin = np.array([0,20,70])\n",
    "    upper_skin = np.array([20,255,255])\n",
    "    \n",
    "    #Capture hand in the region of interest and convert hand pixels to white and rest to black pixels\n",
    "    mask = cv2.inRange(hsv,lower_skin,upper_skin)\n",
    "    \n",
    "    #extrapolate the hand to fill dark spots within\n",
    "    mask = cv2.dilate(mask,kernel,iterations=4)\n",
    "    \n",
    "    #Blurring the image\n",
    "    mask = cv2.GaussianBlur(mask,(5,5),100)\n",
    "    #mask = cv2.bitwise_and(roi,roi,mask=mask) \n",
    "    #mask_gray = cv2.cvtColor(mask,cv2.COLOR_BGR2GRAY)\n",
    "    \n",
    "    mask_resized = cv2.resize(mask,(400,400))\n",
    "    mask_reshaped = mask_resized.reshape(1,400,400,1)/255.0\n",
    "    cv2.putText(frame, reverselookup[np.argmax(model.predict(mask_reshaped))], (0,100), cv2.FONT_HERSHEY_SIMPLEX, 0.8, (0, 255, 0), 1, cv2.LINE_AA)\n",
    "    \n",
    "    \n",
    "    \n",
    "    \n",
    "    \n",
    "    cv2.imshow(\"frame\",frame)\n",
    "    cv2.imshow(\"mask\",mask)\n",
    "    \n",
    "    if cv2.waitKey(1) & 0xFF == 27:\n",
    "        break\n",
    "cap.release()\n",
    "cv2.destroyAllWindows()\"\"\""
   ]
  },
  {
   "cell_type": "code",
   "execution_count": 10,
   "metadata": {},
   "outputs": [
    {
     "name": "stdout",
     "output_type": "stream",
     "text": [
      "Select option{0: 'Fist', 1: 'Nothing', 2: 'Palm', 3: 'Swing', 4: 'Thumb', 5: 'Yo'}\n",
      "2\n"
     ]
    }
   ],
   "source": [
    "# Data creation\n",
    "\n",
    "cap = cv2.VideoCapture(0)\n",
    "flag = True\n",
    "count = 1\n",
    "print(\"Select option\" + str(reverselookup))\n",
    "option = int(input())\n",
    "_, first_frame = cap.read()\n",
    "roi = first_frame[100:400,0:300]\n",
    "first_roi = cv2.cvtColor(roi, cv2.COLOR_BGR2GRAY)\n",
    "first_roi = cv2.GaussianBlur(first_roi, (5, 5), 0)\n",
    "\n",
    "\n",
    "\n",
    "while True:\n",
    "    _,frame = cap.read()\n",
    "    \n",
    "    if flag:\n",
    "        if cv2.waitKey(60) & 0xFF == ord('r'):\n",
    "            flag = False\n",
    "        else:\n",
    "            cv2.rectangle(frame,(0,100),(300,400),(0,255,0))\n",
    "            roi = frame[100:400,0:300]\n",
    "    \n",
    "            gray_roi = cv2.cvtColor(roi, cv2.COLOR_BGR2GRAY)\n",
    "            gray_roi = cv2.GaussianBlur(gray_roi, (5, 5), 0)\n",
    "    \n",
    "            difference = cv2.absdiff(first_roi, gray_roi)\n",
    "            #_, difference = cv2.threshold(difference, 25, 255, cv2.THRESH_BINARY)\n",
    "            cv2.imshow(\"difference\",difference)\n",
    "            \n",
    "            \n",
    "    else:\n",
    "        cv2.rectangle(frame,(0,100),(300,400),(0,255,0))\n",
    "        roi = frame[100:400,0:300]\n",
    "    \n",
    "        gray_roi = cv2.cvtColor(roi, cv2.COLOR_BGR2GRAY)\n",
    "        gray_roi = cv2.GaussianBlur(gray_roi, (5, 5), 0)\n",
    "    \n",
    "        difference = cv2.absdiff(first_roi, gray_roi)\n",
    "        #_, difference = cv2.threshold(difference, 25, 255, cv2.THRESH_BINARY)\n",
    "        cv2.imshow(\"difference\",difference)\n",
    "        cv2.imwrite('dataset/'+reverselookup[option] +'/image' + str(count) + '.png', difference)\n",
    "        count += 1\n",
    "        if count%100 == 0:\n",
    "            print(count)     \n",
    "    \n",
    "    if cv2.waitKey(200) & 0xFF == 27: # you can increase delay to 2 seconds here\n",
    "        break\n",
    "\n",
    "# When everything done, release the capture\n",
    "cap.release()\n",
    "cv2.destroyAllWindows()"
   ]
  },
  {
   "cell_type": "code",
   "execution_count": 12,
   "metadata": {},
   "outputs": [],
   "source": [
    "#Running model\n",
    "cap  = cv2.VideoCapture(0)\n",
    "\n",
    "_, first_frame = cap.read()\n",
    "cv2.rectangle(first_frame,(0,100),(300,400),(0,255,0))\n",
    "roi = first_frame[100:400,0:300]\n",
    "first_roi = cv2.cvtColor(roi, cv2.COLOR_BGR2GRAY)\n",
    "first_roi = cv2.GaussianBlur(first_roi, (5, 5), 0)\n",
    "\n",
    "while True:\n",
    "    _,frame = cap.read()\n",
    "    #To flip the image if needed\n",
    "    #frame = cv2.flip(frame,1)\n",
    "    \n",
    "    cv2.rectangle(frame,(0,100),(300,400),(0,255,0))\n",
    "    roi = frame[100:400,0:300]\n",
    "    \n",
    "    \n",
    "    gray_roi = cv2.cvtColor(roi, cv2.COLOR_BGR2GRAY)\n",
    "    gray_roi = cv2.GaussianBlur(gray_roi, (5, 5), 0)\n",
    "    \n",
    "    difference = cv2.absdiff(first_roi, gray_roi)\n",
    "    _, difference = cv2.threshold(difference, 25, 255, cv2.THRESH_BINARY)\n",
    "    \n",
    "    difference_resized = cv2.resize(difference,(400,400))\n",
    "    difference_reshaped = difference_resized.reshape(1,400,400,1)/255.0\n",
    "    cv2.putText(frame, reverselookup[np.argmax(model.predict(difference_reshaped))], (0,100), cv2.FONT_HERSHEY_SIMPLEX, 0.8, (0, 255, 0), 1, cv2.LINE_AA)\n",
    "    \n",
    "    \n",
    "    \n",
    "    \n",
    "    \n",
    "    cv2.imshow(\"first_frame\",first_frame)\n",
    "    cv2.imshow(\"frame\",frame)\n",
    "    cv2.imshow(\"difference\",difference)\n",
    "    \n",
    "    if cv2.waitKey(1) & 0xFF == 27:\n",
    "        break\n",
    "cap.release()\n",
    "cv2.destroyAllWindows()"
   ]
  }
 ],
 "metadata": {
  "kernelspec": {
   "display_name": "Python 3",
   "language": "python",
   "name": "python3"
  },
  "language_info": {
   "codemirror_mode": {
    "name": "ipython",
    "version": 3
   },
   "file_extension": ".py",
   "mimetype": "text/x-python",
   "name": "python",
   "nbconvert_exporter": "python",
   "pygments_lexer": "ipython3",
   "version": "3.7.0-final"
  }
 },
 "nbformat": 4,
 "nbformat_minor": 2
}